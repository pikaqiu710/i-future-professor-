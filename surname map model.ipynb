{
 "cells": [
  {
   "cell_type": "code",
   "execution_count": 33,
   "metadata": {
    "collapsed": true
   },
   "outputs": [],
   "source": [
    "import pandas as pd"
   ]
  },
  {
   "cell_type": "markdown",
   "metadata": {},
   "source": [
    "# Load Datasets"
   ]
  },
  {
   "cell_type": "code",
   "execution_count": 88,
   "metadata": {
    "collapsed": false
   },
   "outputs": [],
   "source": [
    "name_total = pd.read_csv(\"/Users/Kit/Documents/WeCloudData/i-Future/professor project/name match/wiki name by country/names by country (from wiki)_ke xing.csv\")\n",
    "surname = pd.read_csv(\"/Users/Kit/Documents/WeCloudData/i-Future/professor project/name match/chinese surname/namelist.csv\")"
   ]
  },
  {
   "cell_type": "code",
   "execution_count": 89,
   "metadata": {
    "collapsed": false
   },
   "outputs": [
    {
     "data": {
      "text/html": [
       "<div>\n",
       "<table border=\"1\" class=\"dataframe\">\n",
       "  <thead>\n",
       "    <tr style=\"text-align: right;\">\n",
       "      <th></th>\n",
       "      <th>Unnamed: 0</th>\n",
       "      <th>country</th>\n",
       "      <th>first_name</th>\n",
       "      <th>full_name</th>\n",
       "      <th>last_name</th>\n",
       "    </tr>\n",
       "  </thead>\n",
       "  <tbody>\n",
       "    <tr>\n",
       "      <th>0</th>\n",
       "      <td>0</td>\n",
       "      <td>China</td>\n",
       "      <td>Shufan</td>\n",
       "      <td>Chen Shufan</td>\n",
       "      <td>Chen</td>\n",
       "    </tr>\n",
       "    <tr>\n",
       "      <th>1</th>\n",
       "      <td>1</td>\n",
       "      <td>China</td>\n",
       "      <td>Changshun</td>\n",
       "      <td>Wang Changshun</td>\n",
       "      <td>Wang</td>\n",
       "    </tr>\n",
       "    <tr>\n",
       "      <th>2</th>\n",
       "      <td>2</td>\n",
       "      <td>China</td>\n",
       "      <td>Yin-mo</td>\n",
       "      <td>Shen Yin-mo</td>\n",
       "      <td>Shen</td>\n",
       "    </tr>\n",
       "    <tr>\n",
       "      <th>3</th>\n",
       "      <td>3</td>\n",
       "      <td>China</td>\n",
       "      <td>Buwen</td>\n",
       "      <td>Wang Buwen</td>\n",
       "      <td>Wang</td>\n",
       "    </tr>\n",
       "    <tr>\n",
       "      <th>4</th>\n",
       "      <td>4</td>\n",
       "      <td>China</td>\n",
       "      <td>Duxiu</td>\n",
       "      <td>Chen Duxiu</td>\n",
       "      <td>Chen</td>\n",
       "    </tr>\n",
       "  </tbody>\n",
       "</table>\n",
       "</div>"
      ],
      "text/plain": [
       "   Unnamed: 0 country first_name       full_name last_name\n",
       "0           0   China     Shufan     Chen Shufan      Chen\n",
       "1           1   China  Changshun  Wang Changshun      Wang\n",
       "2           2   China     Yin-mo     Shen Yin-mo      Shen\n",
       "3           3   China      Buwen      Wang Buwen      Wang\n",
       "4           4   China      Duxiu      Chen Duxiu      Chen"
      ]
     },
     "execution_count": 89,
     "metadata": {},
     "output_type": "execute_result"
    }
   ],
   "source": [
    "name_total.head(5)"
   ]
  },
  {
   "cell_type": "code",
   "execution_count": 90,
   "metadata": {
    "collapsed": false
   },
   "outputs": [
    {
     "data": {
      "text/html": [
       "<div>\n",
       "<table border=\"1\" class=\"dataframe\">\n",
       "  <thead>\n",
       "    <tr style=\"text-align: right;\">\n",
       "      <th></th>\n",
       "      <th>Unnamed: 0</th>\n",
       "      <th>surname</th>\n",
       "    </tr>\n",
       "  </thead>\n",
       "  <tbody>\n",
       "    <tr>\n",
       "      <th>0</th>\n",
       "      <td>0</td>\n",
       "      <td>An</td>\n",
       "    </tr>\n",
       "    <tr>\n",
       "      <th>1</th>\n",
       "      <td>1</td>\n",
       "      <td>Ang</td>\n",
       "    </tr>\n",
       "    <tr>\n",
       "      <th>2</th>\n",
       "      <td>2</td>\n",
       "      <td>Ang</td>\n",
       "    </tr>\n",
       "    <tr>\n",
       "      <th>3</th>\n",
       "      <td>3</td>\n",
       "      <td>Ao</td>\n",
       "    </tr>\n",
       "    <tr>\n",
       "      <th>4</th>\n",
       "      <td>4</td>\n",
       "      <td>Au</td>\n",
       "    </tr>\n",
       "  </tbody>\n",
       "</table>\n",
       "</div>"
      ],
      "text/plain": [
       "   Unnamed: 0 surname\n",
       "0           0      An\n",
       "1           1     Ang\n",
       "2           2     Ang\n",
       "3           3      Ao\n",
       "4           4      Au"
      ]
     },
     "execution_count": 90,
     "metadata": {},
     "output_type": "execute_result"
    }
   ],
   "source": [
    "surname.head(5)"
   ]
  },
  {
   "cell_type": "code",
   "execution_count": 91,
   "metadata": {
    "collapsed": false
   },
   "outputs": [],
   "source": [
    "surname_list = surname[\"surname\"].tolist()"
   ]
  },
  {
   "cell_type": "markdown",
   "metadata": {},
   "source": [
    "# Check if last_name in the surname list"
   ]
  },
  {
   "cell_type": "code",
   "execution_count": 93,
   "metadata": {
    "collapsed": false
   },
   "outputs": [],
   "source": [
    "for i in range(0,len(name_total)):\n",
    "    name_total[\"boolean\"] = name_total[\"last_name\"].isin(surname_list)"
   ]
  },
  {
   "cell_type": "code",
   "execution_count": 106,
   "metadata": {
    "collapsed": false
   },
   "outputs": [
    {
     "data": {
      "text/html": [
       "<div>\n",
       "<table border=\"1\" class=\"dataframe\">\n",
       "  <thead>\n",
       "    <tr style=\"text-align: right;\">\n",
       "      <th></th>\n",
       "      <th>Unnamed: 0</th>\n",
       "      <th>country</th>\n",
       "      <th>first_name</th>\n",
       "      <th>full_name</th>\n",
       "      <th>last_name</th>\n",
       "      <th>boolean</th>\n",
       "    </tr>\n",
       "  </thead>\n",
       "  <tbody>\n",
       "    <tr>\n",
       "      <th>0</th>\n",
       "      <td>0</td>\n",
       "      <td>China</td>\n",
       "      <td>Shufan</td>\n",
       "      <td>Chen Shufan</td>\n",
       "      <td>Chen</td>\n",
       "      <td>True</td>\n",
       "    </tr>\n",
       "    <tr>\n",
       "      <th>1</th>\n",
       "      <td>1</td>\n",
       "      <td>China</td>\n",
       "      <td>Changshun</td>\n",
       "      <td>Wang Changshun</td>\n",
       "      <td>Wang</td>\n",
       "      <td>True</td>\n",
       "    </tr>\n",
       "    <tr>\n",
       "      <th>2</th>\n",
       "      <td>2</td>\n",
       "      <td>China</td>\n",
       "      <td>Yin-mo</td>\n",
       "      <td>Shen Yin-mo</td>\n",
       "      <td>Shen</td>\n",
       "      <td>True</td>\n",
       "    </tr>\n",
       "    <tr>\n",
       "      <th>3</th>\n",
       "      <td>3</td>\n",
       "      <td>China</td>\n",
       "      <td>Buwen</td>\n",
       "      <td>Wang Buwen</td>\n",
       "      <td>Wang</td>\n",
       "      <td>True</td>\n",
       "    </tr>\n",
       "    <tr>\n",
       "      <th>4</th>\n",
       "      <td>4</td>\n",
       "      <td>China</td>\n",
       "      <td>Duxiu</td>\n",
       "      <td>Chen Duxiu</td>\n",
       "      <td>Chen</td>\n",
       "      <td>True</td>\n",
       "    </tr>\n",
       "    <tr>\n",
       "      <th>5</th>\n",
       "      <td>5</td>\n",
       "      <td>China</td>\n",
       "      <td>Wu</td>\n",
       "      <td>Chen Wu</td>\n",
       "      <td>Chen</td>\n",
       "      <td>True</td>\n",
       "    </tr>\n",
       "    <tr>\n",
       "      <th>6</th>\n",
       "      <td>6</td>\n",
       "      <td>China</td>\n",
       "      <td>Xueqi</td>\n",
       "      <td>Cheng Xueqi</td>\n",
       "      <td>Cheng</td>\n",
       "      <td>True</td>\n",
       "    </tr>\n",
       "    <tr>\n",
       "      <th>7</th>\n",
       "      <td>7</td>\n",
       "      <td>China</td>\n",
       "      <td>Bo</td>\n",
       "      <td>Chu Bo</td>\n",
       "      <td>Chu</td>\n",
       "      <td>True</td>\n",
       "    </tr>\n",
       "    <tr>\n",
       "      <th>8</th>\n",
       "      <td>8</td>\n",
       "      <td>China</td>\n",
       "      <td>Jiaxian</td>\n",
       "      <td>Deng Jiaxian</td>\n",
       "      <td>Deng</td>\n",
       "      <td>True</td>\n",
       "    </tr>\n",
       "    <tr>\n",
       "      <th>9</th>\n",
       "      <td>9</td>\n",
       "      <td>China</td>\n",
       "      <td>Shiru</td>\n",
       "      <td>Deng Shiru</td>\n",
       "      <td>Deng</td>\n",
       "      <td>True</td>\n",
       "    </tr>\n",
       "  </tbody>\n",
       "</table>\n",
       "</div>"
      ],
      "text/plain": [
       "   Unnamed: 0 country first_name       full_name last_name boolean\n",
       "0           0   China     Shufan     Chen Shufan      Chen    True\n",
       "1           1   China  Changshun  Wang Changshun      Wang    True\n",
       "2           2   China     Yin-mo     Shen Yin-mo      Shen    True\n",
       "3           3   China      Buwen      Wang Buwen      Wang    True\n",
       "4           4   China      Duxiu      Chen Duxiu      Chen    True\n",
       "5           5   China         Wu         Chen Wu      Chen    True\n",
       "6           6   China      Xueqi     Cheng Xueqi     Cheng    True\n",
       "7           7   China         Bo          Chu Bo       Chu    True\n",
       "8           8   China    Jiaxian    Deng Jiaxian      Deng    True\n",
       "9           9   China      Shiru      Deng Shiru      Deng    True"
      ]
     },
     "execution_count": 106,
     "metadata": {},
     "output_type": "execute_result"
    }
   ],
   "source": [
    "name_total.head(10)"
   ]
  },
  {
   "cell_type": "code",
   "execution_count": 148,
   "metadata": {
    "collapsed": false
   },
   "outputs": [
    {
     "data": {
      "text/html": [
       "<div>\n",
       "<table border=\"1\" class=\"dataframe\">\n",
       "  <thead>\n",
       "    <tr style=\"text-align: right;\">\n",
       "      <th></th>\n",
       "      <th>Unnamed: 0</th>\n",
       "      <th>country</th>\n",
       "      <th>first_name</th>\n",
       "      <th>full_name</th>\n",
       "      <th>last_name</th>\n",
       "      <th>boolean</th>\n",
       "    </tr>\n",
       "  </thead>\n",
       "  <tbody>\n",
       "    <tr>\n",
       "      <th>16</th>\n",
       "      <td>16</td>\n",
       "      <td>China</td>\n",
       "      <td>Liming</td>\n",
       "      <td>Liu-Wang Liming</td>\n",
       "      <td>Liu-Wang</td>\n",
       "      <td>False</td>\n",
       "    </tr>\n",
       "    <tr>\n",
       "      <th>40</th>\n",
       "      <td>40</td>\n",
       "      <td>China</td>\n",
       "      <td>Hui</td>\n",
       "      <td>Ann Hui</td>\n",
       "      <td>Ann</td>\n",
       "      <td>False</td>\n",
       "    </tr>\n",
       "    <tr>\n",
       "      <th>48</th>\n",
       "      <td>48</td>\n",
       "      <td>China</td>\n",
       "      <td>Zhengcao</td>\n",
       "      <td>Lü Zhengcao</td>\n",
       "      <td>Lü</td>\n",
       "      <td>False</td>\n",
       "    </tr>\n",
       "    <tr>\n",
       "      <th>88</th>\n",
       "      <td>88</td>\n",
       "      <td>China</td>\n",
       "      <td>Sung-hoon</td>\n",
       "      <td>Park Sung-hoon</td>\n",
       "      <td>Park</td>\n",
       "      <td>False</td>\n",
       "    </tr>\n",
       "    <tr>\n",
       "      <th>92</th>\n",
       "      <td>92</td>\n",
       "      <td>China</td>\n",
       "      <td>Fei</td>\n",
       "      <td>Yue Fei</td>\n",
       "      <td>Yue</td>\n",
       "      <td>False</td>\n",
       "    </tr>\n",
       "  </tbody>\n",
       "</table>\n",
       "</div>"
      ],
      "text/plain": [
       "    Unnamed: 0 country first_name        full_name last_name boolean\n",
       "16          16   China     Liming  Liu-Wang Liming  Liu-Wang   False\n",
       "40          40   China        Hui          Ann Hui       Ann   False\n",
       "48          48   China   Zhengcao      Lü Zhengcao        Lü   False\n",
       "88          88   China  Sung-hoon   Park Sung-hoon      Park   False\n",
       "92          92   China        Fei          Yue Fei       Yue   False"
      ]
     },
     "execution_count": 148,
     "metadata": {},
     "output_type": "execute_result"
    }
   ],
   "source": [
    "df_1 = name_total[(name_total[\"country\"] == \"China\") & (name_total[\"boolean\"] == False)]\n",
    "df_1.head()"
   ]
  },
  {
   "cell_type": "code",
   "execution_count": 149,
   "metadata": {
    "collapsed": false
   },
   "outputs": [
    {
     "data": {
      "text/html": [
       "<div>\n",
       "<table border=\"1\" class=\"dataframe\">\n",
       "  <thead>\n",
       "    <tr style=\"text-align: right;\">\n",
       "      <th></th>\n",
       "      <th>Unnamed: 0</th>\n",
       "      <th>country</th>\n",
       "      <th>first_name</th>\n",
       "      <th>full_name</th>\n",
       "      <th>last_name</th>\n",
       "      <th>boolean</th>\n",
       "    </tr>\n",
       "  </thead>\n",
       "  <tbody>\n",
       "    <tr>\n",
       "      <th>4010</th>\n",
       "      <td>4010</td>\n",
       "      <td>America</td>\n",
       "      <td>Alveda</td>\n",
       "      <td>Alveda King</td>\n",
       "      <td>King</td>\n",
       "      <td>True</td>\n",
       "    </tr>\n",
       "    <tr>\n",
       "      <th>4011</th>\n",
       "      <td>4011</td>\n",
       "      <td>America</td>\n",
       "      <td>Reggie</td>\n",
       "      <td>Reggie King</td>\n",
       "      <td>King</td>\n",
       "      <td>True</td>\n",
       "    </tr>\n",
       "    <tr>\n",
       "      <th>4012</th>\n",
       "      <td>4012</td>\n",
       "      <td>America</td>\n",
       "      <td>Troy</td>\n",
       "      <td>Troy King</td>\n",
       "      <td>King</td>\n",
       "      <td>True</td>\n",
       "    </tr>\n",
       "    <tr>\n",
       "      <th>4020</th>\n",
       "      <td>4020</td>\n",
       "      <td>America</td>\n",
       "      <td>Harper</td>\n",
       "      <td>Harper Lee</td>\n",
       "      <td>Lee</td>\n",
       "      <td>True</td>\n",
       "    </tr>\n",
       "    <tr>\n",
       "      <th>4027</th>\n",
       "      <td>4027</td>\n",
       "      <td>America</td>\n",
       "      <td>Theodore</td>\n",
       "      <td>Theodore Long</td>\n",
       "      <td>Long</td>\n",
       "      <td>True</td>\n",
       "    </tr>\n",
       "  </tbody>\n",
       "</table>\n",
       "</div>"
      ],
      "text/plain": [
       "      Unnamed: 0  country first_name      full_name last_name boolean\n",
       "4010        4010  America     Alveda    Alveda King      King    True\n",
       "4011        4011  America     Reggie    Reggie King      King    True\n",
       "4012        4012  America       Troy      Troy King      King    True\n",
       "4020        4020  America     Harper     Harper Lee       Lee    True\n",
       "4027        4027  America   Theodore  Theodore Long      Long    True"
      ]
     },
     "execution_count": 149,
     "metadata": {},
     "output_type": "execute_result"
    }
   ],
   "source": [
    "df_2 = name_total[(name_total[\"country\"] != \"China\") & (name_total[\"boolean\"] == True)]\n",
    "df_2.head()"
   ]
  },
  {
   "cell_type": "code",
   "execution_count": 154,
   "metadata": {
    "collapsed": false
   },
   "outputs": [],
   "source": [
    "AC = len(name_total[name_total[\"country\"] == \"China\"])\n",
    "ANC = len(name_total[name_total[\"country\"] != \"China\"])"
   ]
  },
  {
   "cell_type": "code",
   "execution_count": 155,
   "metadata": {
    "collapsed": true
   },
   "outputs": [],
   "source": [
    "PNC_AC = len(df_1)\n",
    "PC_ANC = len(df_2)"
   ]
  },
  {
   "cell_type": "code",
   "execution_count": 156,
   "metadata": {
    "collapsed": true
   },
   "outputs": [],
   "source": [
    "PNC_ANC = ANC-len(df_2)\n",
    "PC_AC = AC-len(df_1)"
   ]
  },
  {
   "cell_type": "markdown",
   "metadata": {},
   "source": [
    "# Confusion Matrix"
   ]
  },
  {
   "cell_type": "code",
   "execution_count": 169,
   "metadata": {
    "collapsed": false
   },
   "outputs": [
    {
     "data": {
      "text/html": [
       "<div>\n",
       "<table border=\"1\" class=\"dataframe\">\n",
       "  <thead>\n",
       "    <tr style=\"text-align: right;\">\n",
       "      <th></th>\n",
       "      <th>Predicted China</th>\n",
       "      <th>Predicted Not-China</th>\n",
       "    </tr>\n",
       "  </thead>\n",
       "  <tbody>\n",
       "    <tr>\n",
       "      <th>Actual China</th>\n",
       "      <td>3325</td>\n",
       "      <td>439</td>\n",
       "    </tr>\n",
       "    <tr>\n",
       "      <th>Actual Not China</th>\n",
       "      <td>581</td>\n",
       "      <td>29312</td>\n",
       "    </tr>\n",
       "  </tbody>\n",
       "</table>\n",
       "</div>"
      ],
      "text/plain": [
       "                  Predicted China  Predicted Not-China\n",
       "Actual China                 3325                  439\n",
       "Actual Not China              581                29312"
      ]
     },
     "execution_count": 169,
     "metadata": {},
     "output_type": "execute_result"
    }
   ],
   "source": [
    "confusion_matrix = {\"Predicted China\":[PC_AC,PC_ANC],\n",
    "                    \"Predicted Not-China\":[PNC_AC,PNC_ANC]}\n",
    "confusion_matrix = pd.DataFrame(confusion_matrix)\n",
    "confusion_matrix.index = [\"Actual China\", \"Actual Not China\"]\n",
    "confusion_matrix.head()"
   ]
  },
  {
   "cell_type": "markdown",
   "metadata": {},
   "source": [
    "# Accuracy"
   ]
  },
  {
   "cell_type": "code",
   "execution_count": 171,
   "metadata": {
    "collapsed": false
   },
   "outputs": [
    {
     "name": "stdout",
     "output_type": "stream",
     "text": [
      "0.969694268651395\n"
     ]
    }
   ],
   "source": [
    "accuracy = 1-((len(df_1) + len (df_2))/len(name_total))\n",
    "print(accuracy)"
   ]
  },
  {
   "cell_type": "markdown",
   "metadata": {},
   "source": [
    "# check both first name and last name"
   ]
  },
  {
   "cell_type": "code",
   "execution_count": 173,
   "metadata": {
    "collapsed": false
   },
   "outputs": [],
   "source": [
    "for i in range(0,len(name_total)):\n",
    "    name_total[\"first_boolean\"] = name_total[\"first_name\"].isin(surname_list)"
   ]
  },
  {
   "cell_type": "code",
   "execution_count": 174,
   "metadata": {
    "collapsed": false
   },
   "outputs": [
    {
     "data": {
      "text/html": [
       "<div>\n",
       "<table border=\"1\" class=\"dataframe\">\n",
       "  <thead>\n",
       "    <tr style=\"text-align: right;\">\n",
       "      <th></th>\n",
       "      <th>Unnamed: 0</th>\n",
       "      <th>country</th>\n",
       "      <th>first_name</th>\n",
       "      <th>full_name</th>\n",
       "      <th>last_name</th>\n",
       "      <th>boolean</th>\n",
       "      <th>first_boolean</th>\n",
       "    </tr>\n",
       "  </thead>\n",
       "  <tbody>\n",
       "    <tr>\n",
       "      <th>0</th>\n",
       "      <td>0</td>\n",
       "      <td>China</td>\n",
       "      <td>Shufan</td>\n",
       "      <td>Chen Shufan</td>\n",
       "      <td>Chen</td>\n",
       "      <td>True</td>\n",
       "      <td>False</td>\n",
       "    </tr>\n",
       "    <tr>\n",
       "      <th>1</th>\n",
       "      <td>1</td>\n",
       "      <td>China</td>\n",
       "      <td>Changshun</td>\n",
       "      <td>Wang Changshun</td>\n",
       "      <td>Wang</td>\n",
       "      <td>True</td>\n",
       "      <td>False</td>\n",
       "    </tr>\n",
       "    <tr>\n",
       "      <th>2</th>\n",
       "      <td>2</td>\n",
       "      <td>China</td>\n",
       "      <td>Yin-mo</td>\n",
       "      <td>Shen Yin-mo</td>\n",
       "      <td>Shen</td>\n",
       "      <td>True</td>\n",
       "      <td>False</td>\n",
       "    </tr>\n",
       "    <tr>\n",
       "      <th>3</th>\n",
       "      <td>3</td>\n",
       "      <td>China</td>\n",
       "      <td>Buwen</td>\n",
       "      <td>Wang Buwen</td>\n",
       "      <td>Wang</td>\n",
       "      <td>True</td>\n",
       "      <td>False</td>\n",
       "    </tr>\n",
       "    <tr>\n",
       "      <th>4</th>\n",
       "      <td>4</td>\n",
       "      <td>China</td>\n",
       "      <td>Duxiu</td>\n",
       "      <td>Chen Duxiu</td>\n",
       "      <td>Chen</td>\n",
       "      <td>True</td>\n",
       "      <td>False</td>\n",
       "    </tr>\n",
       "  </tbody>\n",
       "</table>\n",
       "</div>"
      ],
      "text/plain": [
       "   Unnamed: 0 country first_name       full_name last_name boolean  \\\n",
       "0           0   China     Shufan     Chen Shufan      Chen    True   \n",
       "1           1   China  Changshun  Wang Changshun      Wang    True   \n",
       "2           2   China     Yin-mo     Shen Yin-mo      Shen    True   \n",
       "3           3   China      Buwen      Wang Buwen      Wang    True   \n",
       "4           4   China      Duxiu      Chen Duxiu      Chen    True   \n",
       "\n",
       "  first_boolean  \n",
       "0         False  \n",
       "1         False  \n",
       "2         False  \n",
       "3         False  \n",
       "4         False  "
      ]
     },
     "execution_count": 174,
     "metadata": {},
     "output_type": "execute_result"
    }
   ],
   "source": [
    "name_total.head()"
   ]
  },
  {
   "cell_type": "code",
   "execution_count": 179,
   "metadata": {
    "collapsed": false
   },
   "outputs": [
    {
     "data": {
      "text/html": [
       "<div>\n",
       "<table border=\"1\" class=\"dataframe\">\n",
       "  <thead>\n",
       "    <tr style=\"text-align: right;\">\n",
       "      <th></th>\n",
       "      <th>Unnamed: 0</th>\n",
       "      <th>country</th>\n",
       "      <th>first_name</th>\n",
       "      <th>full_name</th>\n",
       "      <th>last_name</th>\n",
       "      <th>boolean</th>\n",
       "      <th>first_boolean</th>\n",
       "    </tr>\n",
       "  </thead>\n",
       "  <tbody>\n",
       "    <tr>\n",
       "      <th>16</th>\n",
       "      <td>16</td>\n",
       "      <td>China</td>\n",
       "      <td>Liming</td>\n",
       "      <td>Liu-Wang Liming</td>\n",
       "      <td>Liu-Wang</td>\n",
       "      <td>False</td>\n",
       "      <td>False</td>\n",
       "    </tr>\n",
       "    <tr>\n",
       "      <th>48</th>\n",
       "      <td>48</td>\n",
       "      <td>China</td>\n",
       "      <td>Zhengcao</td>\n",
       "      <td>Lü Zhengcao</td>\n",
       "      <td>Lü</td>\n",
       "      <td>False</td>\n",
       "      <td>False</td>\n",
       "    </tr>\n",
       "    <tr>\n",
       "      <th>88</th>\n",
       "      <td>88</td>\n",
       "      <td>China</td>\n",
       "      <td>Sung-hoon</td>\n",
       "      <td>Park Sung-hoon</td>\n",
       "      <td>Park</td>\n",
       "      <td>False</td>\n",
       "      <td>False</td>\n",
       "    </tr>\n",
       "    <tr>\n",
       "      <th>142</th>\n",
       "      <td>142</td>\n",
       "      <td>China</td>\n",
       "      <td>Girl</td>\n",
       "      <td>Xidan Girl</td>\n",
       "      <td>Xidan</td>\n",
       "      <td>False</td>\n",
       "      <td>False</td>\n",
       "    </tr>\n",
       "    <tr>\n",
       "      <th>147</th>\n",
       "      <td>147</td>\n",
       "      <td>China</td>\n",
       "      <td>Yanpeng</td>\n",
       "      <td>Zhai Yanpeng</td>\n",
       "      <td>Zhai</td>\n",
       "      <td>False</td>\n",
       "      <td>False</td>\n",
       "    </tr>\n",
       "  </tbody>\n",
       "</table>\n",
       "</div>"
      ],
      "text/plain": [
       "     Unnamed: 0 country first_name        full_name last_name boolean  \\\n",
       "16           16   China     Liming  Liu-Wang Liming  Liu-Wang   False   \n",
       "48           48   China   Zhengcao      Lü Zhengcao        Lü   False   \n",
       "88           88   China  Sung-hoon   Park Sung-hoon      Park   False   \n",
       "142         142   China       Girl       Xidan Girl     Xidan   False   \n",
       "147         147   China    Yanpeng     Zhai Yanpeng      Zhai   False   \n",
       "\n",
       "    first_boolean  \n",
       "16          False  \n",
       "48          False  \n",
       "88          False  \n",
       "142         False  \n",
       "147         False  "
      ]
     },
     "execution_count": 179,
     "metadata": {},
     "output_type": "execute_result"
    }
   ],
   "source": [
    "df_11 = name_total[(name_total[\"country\"] == \"China\") & (name_total[\"boolean\"] == False)]\n",
    "df_11 = df_11[df_11[\"first_boolean\"] == False]\n",
    "df_11.head()"
   ]
  },
  {
   "cell_type": "code",
   "execution_count": 180,
   "metadata": {
    "collapsed": false
   },
   "outputs": [
    {
     "data": {
      "text/html": [
       "<div>\n",
       "<table border=\"1\" class=\"dataframe\">\n",
       "  <thead>\n",
       "    <tr style=\"text-align: right;\">\n",
       "      <th></th>\n",
       "      <th>Unnamed: 0</th>\n",
       "      <th>country</th>\n",
       "      <th>first_name</th>\n",
       "      <th>full_name</th>\n",
       "      <th>last_name</th>\n",
       "      <th>boolean</th>\n",
       "      <th>first_boolean</th>\n",
       "    </tr>\n",
       "  </thead>\n",
       "  <tbody>\n",
       "    <tr>\n",
       "      <th>6393</th>\n",
       "      <td>6393</td>\n",
       "      <td>America</td>\n",
       "      <td>Wah</td>\n",
       "      <td>Wah Chang</td>\n",
       "      <td>Chang</td>\n",
       "      <td>True</td>\n",
       "      <td>True</td>\n",
       "    </tr>\n",
       "    <tr>\n",
       "      <th>6398</th>\n",
       "      <td>6398</td>\n",
       "      <td>America</td>\n",
       "      <td>Sam</td>\n",
       "      <td>Sam Choy</td>\n",
       "      <td>Choy</td>\n",
       "      <td>True</td>\n",
       "      <td>True</td>\n",
       "    </tr>\n",
       "    <tr>\n",
       "      <th>6538</th>\n",
       "      <td>6538</td>\n",
       "      <td>America</td>\n",
       "      <td>Kui</td>\n",
       "      <td>Kui Lee</td>\n",
       "      <td>Lee</td>\n",
       "      <td>True</td>\n",
       "      <td>True</td>\n",
       "    </tr>\n",
       "    <tr>\n",
       "      <th>8801</th>\n",
       "      <td>8801</td>\n",
       "      <td>America</td>\n",
       "      <td>Ang</td>\n",
       "      <td>Ang Lee</td>\n",
       "      <td>Lee</td>\n",
       "      <td>True</td>\n",
       "      <td>True</td>\n",
       "    </tr>\n",
       "    <tr>\n",
       "      <th>14972</th>\n",
       "      <td>14972</td>\n",
       "      <td>America</td>\n",
       "      <td>An</td>\n",
       "      <td>An Wang</td>\n",
       "      <td>Wang</td>\n",
       "      <td>True</td>\n",
       "      <td>True</td>\n",
       "    </tr>\n",
       "  </tbody>\n",
       "</table>\n",
       "</div>"
      ],
      "text/plain": [
       "       Unnamed: 0  country first_name  full_name last_name boolean  \\\n",
       "6393         6393  America        Wah  Wah Chang     Chang    True   \n",
       "6398         6398  America        Sam   Sam Choy      Choy    True   \n",
       "6538         6538  America        Kui    Kui Lee       Lee    True   \n",
       "8801         8801  America        Ang    Ang Lee       Lee    True   \n",
       "14972       14972  America         An    An Wang      Wang    True   \n",
       "\n",
       "      first_boolean  \n",
       "6393           True  \n",
       "6398           True  \n",
       "6538           True  \n",
       "8801           True  \n",
       "14972          True  "
      ]
     },
     "execution_count": 180,
     "metadata": {},
     "output_type": "execute_result"
    }
   ],
   "source": [
    "df_22 = name_total[(name_total[\"country\"] != \"China\") & (name_total[\"boolean\"] == True)]\n",
    "df_22 = df_22[df_22[\"first_boolean\"] == True]\n",
    "df_22.head()"
   ]
  },
  {
   "cell_type": "code",
   "execution_count": 184,
   "metadata": {
    "collapsed": true
   },
   "outputs": [],
   "source": [
    "AC_2 = len(name_total[name_total[\"country\"] == \"China\"])\n",
    "ANC_2 = len(name_total[name_total[\"country\"] != \"China\"])"
   ]
  },
  {
   "cell_type": "code",
   "execution_count": 185,
   "metadata": {
    "collapsed": true
   },
   "outputs": [],
   "source": [
    "PNC_AC_2 = len(df_11)\n",
    "PC_ANC_2 = len(df_22)"
   ]
  },
  {
   "cell_type": "code",
   "execution_count": 186,
   "metadata": {
    "collapsed": true
   },
   "outputs": [],
   "source": [
    "PNC_ANC_2 = ANC_2-len(df_22)\n",
    "PC_AC_2 = AC_2-len(df_11)"
   ]
  },
  {
   "cell_type": "markdown",
   "metadata": {},
   "source": [
    "# confusion matrix 2"
   ]
  },
  {
   "cell_type": "code",
   "execution_count": 187,
   "metadata": {
    "collapsed": false
   },
   "outputs": [
    {
     "data": {
      "text/html": [
       "<div>\n",
       "<table border=\"1\" class=\"dataframe\">\n",
       "  <thead>\n",
       "    <tr style=\"text-align: right;\">\n",
       "      <th></th>\n",
       "      <th>Predicted China</th>\n",
       "      <th>Predicted Not-China</th>\n",
       "    </tr>\n",
       "  </thead>\n",
       "  <tbody>\n",
       "    <tr>\n",
       "      <th>Actual China</th>\n",
       "      <td>3325</td>\n",
       "      <td>439</td>\n",
       "    </tr>\n",
       "    <tr>\n",
       "      <th>Actual Not China</th>\n",
       "      <td>581</td>\n",
       "      <td>29312</td>\n",
       "    </tr>\n",
       "  </tbody>\n",
       "</table>\n",
       "</div>"
      ],
      "text/plain": [
       "                  Predicted China  Predicted Not-China\n",
       "Actual China                 3325                  439\n",
       "Actual Not China              581                29312"
      ]
     },
     "execution_count": 187,
     "metadata": {},
     "output_type": "execute_result"
    }
   ],
   "source": [
    "confusion_matrix_2 = {\"Predicted China\":[PC_AC_2,PC_ANC_2],\n",
    "                    \"Predicted Not-China\":[PNC_AC_2,PNC_ANC_2]}\n",
    "confusion_matrix_2 = pd.DataFrame(confusion_matrix)\n",
    "confusion_matrix_2.index = [\"Actual China\", \"Actual Not China\"]\n",
    "confusion_matrix_2.head()"
   ]
  },
  {
   "cell_type": "markdown",
   "metadata": {},
   "source": [
    "# Accuracy 2"
   ]
  },
  {
   "cell_type": "code",
   "execution_count": 188,
   "metadata": {
    "collapsed": false
   },
   "outputs": [
    {
     "name": "stdout",
     "output_type": "stream",
     "text": [
      "0.9924532786641709\n"
     ]
    }
   ],
   "source": [
    "accuracy_2 = 1-((len(df_11) + len (df_22))/len(name_total))\n",
    "print(accuracy_2)"
   ]
  },
  {
   "cell_type": "code",
   "execution_count": null,
   "metadata": {
    "collapsed": true
   },
   "outputs": [],
   "source": []
  }
 ],
 "metadata": {
  "anaconda-cloud": {},
  "kernelspec": {
   "display_name": "Python [Root]",
   "language": "python",
   "name": "Python [Root]"
  },
  "language_info": {
   "codemirror_mode": {
    "name": "ipython",
    "version": 3
   },
   "file_extension": ".py",
   "mimetype": "text/x-python",
   "name": "python",
   "nbconvert_exporter": "python",
   "pygments_lexer": "ipython3",
   "version": "3.5.2"
  }
 },
 "nbformat": 4,
 "nbformat_minor": 0
}
